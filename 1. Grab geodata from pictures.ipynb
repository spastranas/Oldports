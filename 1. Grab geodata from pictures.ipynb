{
 "cells": [
  {
   "cell_type": "markdown",
   "metadata": {},
   "source": [
    "https://developer.here.com/blog/getting-started-with-geocoding-exif-image-metadata-in-python3\n",
    "\n",
    "https://reverse.geocoder.api.here.com/6.2/reversegeocode.json?prox=37.7442%2C-119.5931%2C1000&mode=\n",
    "#retrieveAreas&app_id=devportal-demo-20180625&app_code=9v2BkviRwi9Ot26kp2IysQ&gen=9"
   ]
  },
  {
   "cell_type": "code",
   "execution_count": 1,
   "metadata": {},
   "outputs": [],
   "source": [
    "# define functions to get geodata data . I got the instrutions from a website\n",
    "import os\n",
    "import requests\n",
    "\n",
    "from PIL import Image\n",
    "\n",
    "# funtion 1\n",
    "def get_exif(filename):\n",
    "    image = Image.open(filename)\n",
    "    image.verify()\n",
    "    return image._getexif()\n",
    "\n",
    "\n",
    "\n",
    "from PIL.ExifTags import GPSTAGS\n",
    "from PIL.ExifTags import TAGS\n",
    "# funtion #2\n",
    "def get_geotagging(exif):\n",
    "    if not exif:\n",
    "        raise ValueError(\"No EXIF metadata found\")\n",
    "\n",
    "    geotagging = {}\n",
    "    for (idx, tag) in TAGS.items():\n",
    "        if tag == 'GPSInfo':\n",
    "            if idx not in exif:\n",
    "                raise ValueError(\"No EXIF geotagging found\")\n",
    "\n",
    "            for (key, val) in GPSTAGS.items():\n",
    "                if key in exif[idx]:\n",
    "                    geotagging[val] = exif[idx][key]\n",
    "\n",
    "    return geotagging\n",
    "\n",
    "\n",
    "#funtion 3\n",
    "def get_decimal_from_dms(dms, ref):\n",
    "\n",
    "    degrees = dms[0][0] / dms[0][1]\n",
    "    minutes = dms[1][0] / dms[1][1] / 60.0\n",
    "    seconds = dms[2][0] / dms[2][1] / 3600.0\n",
    "\n",
    "    if ref in ['S', 'W']:\n",
    "        degrees = -degrees\n",
    "        minutes = -minutes\n",
    "        seconds = -seconds\n",
    "\n",
    "    return round(degrees + minutes + seconds, 5)\n",
    "\n",
    "\n",
    "# funtion 4\n",
    "\n",
    "def get_coordinates(geotags):\n",
    "    lat = get_decimal_from_dms(geotags['GPSLatitude'], geotags['GPSLatitudeRef'])\n",
    "\n",
    "    lon = get_decimal_from_dms(geotags['GPSLongitude'], geotags['GPSLongitudeRef'])\n",
    "\n",
    "    return (lat,lon)\n",
    "\n",
    "\n",
    "# Funtion 5\n",
    "\n",
    "def get_location(geotags):\n",
    "    coords = get_coordinates(geotags)\n",
    "\n",
    "    uri = 'https://reverse.geocoder.api.here.com/6.2/reversegeocode.json'\n",
    "    headers = {}\n",
    "    params = {\n",
    "        'app_id': 'cjIyVcZ1rzUhd0Xb9r0q',\n",
    "        'app_code': 'f9pU60MvwiOVXVRl5N5HmA',\n",
    "        'prox': \"%s,%s\" % coords,\n",
    "        'gen': 9,\n",
    "        'mode': 'retrieveAddresses',\n",
    "        'maxresults': 1,\n",
    "    }\n",
    "\n",
    "    response = requests.get(uri, headers=headers, params=params)\n",
    "    try:\n",
    "        response.raise_for_status()\n",
    "        return response.json()\n",
    "\n",
    "    except requests.exceptions.HTTPError as e:\n",
    "        print(str(e))\n",
    "        return {}\n",
    "\n",
    "\n",
    "\n",
    "\n"
   ]
  },
  {
   "cell_type": "code",
   "execution_count": 2,
   "metadata": {},
   "outputs": [],
   "source": [
    "# create a function to put the geotag data into a dictionary\n",
    "\n",
    "def ExtractPicData(picAddress):\n",
    "    PicData={'latitude':\"\",'longitude':'','landmark':'','country':'','state':'','county':'','city':'','zipcode':'','ImageTimeStamp':'','FileAddress':''}\n",
    "    exif = get_exif(picAddress)\n",
    "    geotags = get_geotagging(exif)\n",
    "    location = get_location(geotags)\n",
    "\n",
    "    latitude=location['Response']['View'][0]['Result'][0]['Location']['DisplayPosition']['Latitude']\n",
    "    longitude=location['Response']['View'][0]['Result'][0]['Location']['DisplayPosition']['Longitude']\n",
    "    landmark=location['Response']['View'][0]['Result'][0]['Location']['Address']['Label']\n",
    "    country=location['Response']['View'][0]['Result'][0]['Location']['Address']['Country']\n",
    "    state=location['Response']['View'][0]['Result'][0]['Location']['Address']['State']\n",
    "    county=location['Response']['View'][0]['Result'][0]['Location']['Address']['County']\n",
    "    city=location['Response']['View'][0]['Result'][0]['Location']['Address']['City']\n",
    "    zipcode=location['Response']['View'][0]['Result'][0]['Location']['Address']['PostalCode']\n",
    "    ImageTimeStamp=location['Response']['View'][0]['Result'][0]['Location']['MapReference']['MapReleaseDate']\n",
    "    FileAddress=picAddress\n",
    "\n",
    "    PicData['latitude']=latitude\n",
    "    PicData['longitude']=longitude\n",
    "    PicData['landmark']=landmark\n",
    "    PicData['country']=country\n",
    "    PicData['state']=state\n",
    "    PicData['county']=county\n",
    "    PicData['city']=city\n",
    "    PicData['zipcode']=zipcode\n",
    "    PicData['ImageTimeStamp']=ImageTimeStamp\n",
    "    PicData['FileAddress']=\"../\"+FileAddress\n",
    "    return PicData\n"
   ]
  },
  {
   "cell_type": "code",
   "execution_count": 3,
   "metadata": {
    "scrolled": true
   },
   "outputs": [
    {
     "data": {
      "text/plain": [
       "{'latitude': 44.98036,\n",
       " 'longitude': -93.26508,\n",
       " 'landmark': 'Downtown West, Minneapolis, MN, United States',\n",
       " 'country': 'USA',\n",
       " 'state': 'MN',\n",
       " 'county': 'Hennepin',\n",
       " 'city': 'Minneapolis',\n",
       " 'zipcode': '55401',\n",
       " 'ImageTimeStamp': '2019-07-16',\n",
       " 'FileAddress': '../static/Images/uploads/test.jpg'}"
      ]
     },
     "execution_count": 3,
     "metadata": {},
     "output_type": "execute_result"
    }
   ],
   "source": [
    "# execute function\n",
    "\n",
    "uploadsFolder=\"static/Images/uploads/\"\n",
    "picAddress=uploadsFolder +'test.jpg'\n",
    "ReturnedData=ExtractPicData(picAddress)\n",
    "# ReturnedData=PicData\n",
    "\n",
    "# DataFrame=[]\n",
    "# DataFrame.append(ReturnedData)\n",
    "\n",
    "ReturnedData"
   ]
  },
  {
   "cell_type": "code",
   "execution_count": 4,
   "metadata": {},
   "outputs": [
    {
     "data": {
      "text/html": [
       "<div>\n",
       "<style scoped>\n",
       "    .dataframe tbody tr th:only-of-type {\n",
       "        vertical-align: middle;\n",
       "    }\n",
       "\n",
       "    .dataframe tbody tr th {\n",
       "        vertical-align: top;\n",
       "    }\n",
       "\n",
       "    .dataframe thead th {\n",
       "        text-align: right;\n",
       "    }\n",
       "</style>\n",
       "<table border=\"1\" class=\"dataframe\">\n",
       "  <thead>\n",
       "    <tr style=\"text-align: right;\">\n",
       "      <th></th>\n",
       "      <th>FileAddress</th>\n",
       "      <th>ImageTimeStamp</th>\n",
       "      <th>city</th>\n",
       "      <th>country</th>\n",
       "      <th>county</th>\n",
       "      <th>landmark</th>\n",
       "      <th>latitude</th>\n",
       "      <th>longitude</th>\n",
       "      <th>state</th>\n",
       "      <th>zipcode</th>\n",
       "    </tr>\n",
       "  </thead>\n",
       "  <tbody>\n",
       "    <tr>\n",
       "      <th>0</th>\n",
       "      <td>../static/images/IMG_3416.jpg</td>\n",
       "      <td>2019-07-16</td>\n",
       "      <td>St Paul</td>\n",
       "      <td>USA</td>\n",
       "      <td>Ramsey</td>\n",
       "      <td>Summit-University, St Paul, MN, United States</td>\n",
       "      <td>44.95129</td>\n",
       "      <td>-93.12664</td>\n",
       "      <td>MN</td>\n",
       "      <td>55104</td>\n",
       "    </tr>\n",
       "  </tbody>\n",
       "</table>\n",
       "</div>"
      ],
      "text/plain": [
       "                     FileAddress ImageTimeStamp     city country  county  \\\n",
       "0  ../static/images/IMG_3416.jpg     2019-07-16  St Paul     USA  Ramsey   \n",
       "\n",
       "                                        landmark  latitude  longitude state  \\\n",
       "0  Summit-University, St Paul, MN, United States  44.95129  -93.12664    MN   \n",
       "\n",
       "  zipcode  \n",
       "0   55104  "
      ]
     },
     "execution_count": 4,
     "metadata": {},
     "output_type": "execute_result"
    }
   ],
   "source": [
    "# get all the files in the images folder into a list called dirs\n",
    "\n",
    "import os, sys\n",
    "import pandas as pd\n",
    "path = \"static/images/\"\n",
    "dirs = os.listdir(path )\n",
    "\n",
    "# Create an empty dictionary\n",
    "PicturesDictionary=[]\n",
    "# for each file in dirs execute extractPicData, check that the file is a jpg\n",
    "\n",
    "for file in dirs:\n",
    "#     print(file)\n",
    "    if file.find('jpg') is not -1:\n",
    "        Picdata=path+file\n",
    "        # Eexecute the function and insert the data retured by the function into a variable \n",
    "        ReturnedData=ExtractPicData(Picdata)\n",
    "        # Append the data into the ditionary                 \n",
    "        PicturesDictionary.append(ReturnedData)\n",
    "\n",
    "# Convert the dictionary into a dataframe\n",
    "PicturesDataFrame=pd.DataFrame(PicturesDictionary)   \n",
    "\n",
    "PicturesDataFrame.head(1)\n",
    "#print(dirs)"
   ]
  },
  {
   "cell_type": "code",
   "execution_count": 5,
   "metadata": {
    "scrolled": true
   },
   "outputs": [
    {
     "data": {
      "text/plain": [
       "Index(['FileAddress', 'ImageTimeStamp', 'city', 'country', 'county',\n",
       "       'landmark', 'latitude', 'longitude', 'state', 'zipcode'],\n",
       "      dtype='object')"
      ]
     },
     "execution_count": 5,
     "metadata": {},
     "output_type": "execute_result"
    }
   ],
   "source": [
    "PicturesDataFrame.columns"
   ]
  },
  {
   "cell_type": "code",
   "execution_count": 6,
   "metadata": {},
   "outputs": [],
   "source": [
    "# save to csv\n",
    "# PicturesDataFrame.to_csv(\"db/OldportsGeoTagData.csv\", index=True)\n",
    "PicturesDataFrame.to_csv(\"db/OldportsGeoTagData.csv\", index=False)\n",
    "\n"
   ]
  },
  {
   "cell_type": "markdown",
   "metadata": {},
   "source": [
    "move and shrink file"
   ]
  },
  {
   "cell_type": "markdown",
   "metadata": {},
   "source": [
    "def make_thumbnail(filename):\n",
    "    img = Image.open(filename)\n",
    "\n",
    "    (width, height) = img.size\n",
    "    if width > height:\n",
    "        ratio = 50.0 / width\n",
    "    else:\n",
    "        ratio = 50.0 / height\n",
    "\n",
    "    img.thumbnail((round(width * ratio), round(height * ratio)), Image.LANCZOS)\n",
    "    img.save('thumb_' + filename)\n"
   ]
  },
  {
   "cell_type": "markdown",
   "metadata": {},
   "source": [
    "make_thumbnail('images/20190704_210738_Film3.jpg')"
   ]
  }
 ],
 "metadata": {
  "kernelspec": {
   "display_name": "Python 3",
   "language": "python",
   "name": "python3"
  },
  "language_info": {
   "codemirror_mode": {
    "name": "ipython",
    "version": 3
   },
   "file_extension": ".py",
   "mimetype": "text/x-python",
   "name": "python",
   "nbconvert_exporter": "python",
   "pygments_lexer": "ipython3",
   "version": "3.6.7"
  }
 },
 "nbformat": 4,
 "nbformat_minor": 2
}
