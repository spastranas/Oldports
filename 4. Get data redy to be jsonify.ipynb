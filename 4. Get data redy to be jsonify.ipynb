{
 "cells": [
  {
   "cell_type": "code",
   "execution_count": 1,
   "metadata": {},
   "outputs": [],
   "source": [
    "import pandas as pd\n",
    "import sqlite3\n",
    "from sqlite3 import Error\n",
    "conn = sqlite3.connect('OldPortsApp/db/Oldports.sqlite')\n",
    "c = conn.cursor()"
   ]
  },
  {
   "cell_type": "code",
   "execution_count": 2,
   "metadata": {},
   "outputs": [
    {
     "name": "stderr",
     "output_type": "stream",
     "text": [
      "C:\\Users\\spast\\Anaconda3\\envs\\PythonWebMongo\\lib\\site-packages\\pandas\\core\\generic.py:2130: UserWarning: The spaces in these column names will not be changed. In pandas versions < 0.14, spaces were converted to underscores.\n",
      "  dtype=dtype)\n"
     ]
    }
   ],
   "source": [
    "\n",
    "# Load Games\n",
    "games = \"OldPortsApp/db/OldportsGeoTagData.csv\"\n",
    "games = pd.read_csv(games)\n",
    "games.to_sql('GeoTagData', conn, if_exists = \"replace\")\n"
   ]
  },
  {
   "cell_type": "code",
   "execution_count": 3,
   "metadata": {
    "scrolled": true
   },
   "outputs": [
    {
     "data": {
      "text/plain": [
       "Index(['index', 'Unnamed: 0', 'FileAddress', 'ImageTimeStamp', 'city',\n",
       "       'country', 'county', 'landmark', 'latitude', 'longitude', 'state',\n",
       "       'zipcode'],\n",
       "      dtype='object')"
      ]
     },
     "execution_count": 3,
     "metadata": {},
     "output_type": "execute_result"
    }
   ],
   "source": [
    "#test\n",
    "df = pd.read_sql('Select * from GeoTagData', conn)\n",
    "df.columns\n"
   ]
  },
  {
   "cell_type": "code",
   "execution_count": 9,
   "metadata": {},
   "outputs": [
    {
     "data": {
      "text/html": [
       "<div>\n",
       "<style scoped>\n",
       "    .dataframe tbody tr th:only-of-type {\n",
       "        vertical-align: middle;\n",
       "    }\n",
       "\n",
       "    .dataframe tbody tr th {\n",
       "        vertical-align: top;\n",
       "    }\n",
       "\n",
       "    .dataframe thead th {\n",
       "        text-align: right;\n",
       "    }\n",
       "</style>\n",
       "<table border=\"1\" class=\"dataframe\">\n",
       "  <thead>\n",
       "    <tr style=\"text-align: right;\">\n",
       "      <th></th>\n",
       "      <th>index</th>\n",
       "      <th>Unnamed: 0</th>\n",
       "      <th>FileAddress</th>\n",
       "      <th>ImageTimeStamp</th>\n",
       "      <th>city</th>\n",
       "      <th>country</th>\n",
       "      <th>county</th>\n",
       "      <th>landmark</th>\n",
       "      <th>latitude</th>\n",
       "      <th>longitude</th>\n",
       "      <th>state</th>\n",
       "      <th>zipcode</th>\n",
       "    </tr>\n",
       "  </thead>\n",
       "  <tbody>\n",
       "    <tr>\n",
       "      <th>0</th>\n",
       "      <td>0</td>\n",
       "      <td>0</td>\n",
       "      <td>../static/images/20190704_210738_Film3.jpg</td>\n",
       "      <td>2019-07-16</td>\n",
       "      <td>Washington</td>\n",
       "      <td>USA</td>\n",
       "      <td>District of Columbia</td>\n",
       "      <td>Washington Mall, Washington, DC, United States</td>\n",
       "      <td>38.89142</td>\n",
       "      <td>-77.03367</td>\n",
       "      <td>DC</td>\n",
       "      <td>20004</td>\n",
       "    </tr>\n",
       "  </tbody>\n",
       "</table>\n",
       "</div>"
      ],
      "text/plain": [
       "   index  Unnamed: 0                                 FileAddress  \\\n",
       "0      0           0  ../static/images/20190704_210738_Film3.jpg   \n",
       "\n",
       "  ImageTimeStamp        city country                county  \\\n",
       "0     2019-07-16  Washington     USA  District of Columbia   \n",
       "\n",
       "                                         landmark  latitude  longitude state  \\\n",
       "0  Washington Mall, Washington, DC, United States  38.89142  -77.03367    DC   \n",
       "\n",
       "   zipcode  \n",
       "0    20004  "
      ]
     },
     "execution_count": 9,
     "metadata": {},
     "output_type": "execute_result"
    }
   ],
   "source": [
    "import os\n",
    " \n",
    "import pandas as pd\n",
    "import numpy as np\n",
    "import sqlite3 as sql\n",
    "import seaborn as sns\n",
    "import matplotlib.pyplot as plt\n",
    "\n",
    "import sqlalchemy \n",
    "from sqlalchemy.ext.automap import automap_base\n",
    "from sqlalchemy.orm import Session\n",
    "from sqlalchemy import create_engine\n",
    "from flask import Flask, jsonify, render_template\n",
    "from flask_sqlalchemy import SQLAlchemy\n",
    "\n",
    "database_path = \"OldPortsApp/db/Oldports.sqlite\"\n",
    "engine = create_engine(f\"sqlite:///{database_path}\")\n",
    "\n",
    "Base = automap_base() # Declare a Base using `automap_base()`\n",
    "Base.prepare(engine, reflect=True) # Creates a class for each table\n",
    "Base.classes.keys() # display the mapped classses, the tables converted into classes\n",
    "\n",
    "# print (engine.table_names()) \n",
    "\n",
    "data = pd.read_sql(\"SELECT * FROM GeoTagData\", conn) #import pandas\n",
    "\n",
    "data.head(1)"
   ]
  },
  {
   "cell_type": "code",
   "execution_count": 11,
   "metadata": {},
   "outputs": [
    {
     "data": {
      "text/plain": [
       "{'FileAddress': '../static/images/20190704_210738_Film3.jpg'}"
      ]
     },
     "execution_count": 11,
     "metadata": {},
     "output_type": "execute_result"
    }
   ],
   "source": [
    "index=0\n",
    "df=data.loc[(data[\"index\"] == index) ]\n",
    "piclocation={'FileAddress':list(df['FileAddress'])[0]}\n",
    "piclocation[\"FileAddress\"]"
   ]
  }
 ],
 "metadata": {
  "kernelspec": {
   "display_name": "Python 3",
   "language": "python",
   "name": "python3"
  },
  "language_info": {
   "codemirror_mode": {
    "name": "ipython",
    "version": 3
   },
   "file_extension": ".py",
   "mimetype": "text/x-python",
   "name": "python",
   "nbconvert_exporter": "python",
   "pygments_lexer": "ipython3",
   "version": "3.7.1"
  }
 },
 "nbformat": 4,
 "nbformat_minor": 2
}
