{
 "cells": [
  {
   "cell_type": "code",
   "execution_count": 11,
   "metadata": {},
   "outputs": [],
   "source": [
    "# Dependencies\n",
    "# ----------------------------------\n",
    "from sqlalchemy import create_engine\n",
    "from sqlalchemy.ext.declarative import declarative_base\n",
    "Base = declarative_base()"
   ]
  },
  {
   "cell_type": "code",
   "execution_count": 12,
   "metadata": {},
   "outputs": [],
   "source": [
    "from sqlalchemy import Column, Integer, String, Float"
   ]
  },
  {
   "cell_type": "code",
   "execution_count": null,
   "metadata": {},
   "outputs": [],
   "source": [
    "app = Flask(__name__)\n",
    "\n",
    "app.config['SQLALCHEMY_DATABASE_URI'] = 'sqlite:///schools.sqlite3'\n",
    "db = SQLAlchemy(app)\n",
    "\n",
    "db.Model.metadata.reflect(db.engine)\n",
    "\n",
    "class School(db.Model):\n",
    "    __tablename__ = 'schools-geocoded'\n",
    "    __table_args__ = { 'extend_existing': True }\n",
    "    Unnamed = db.Column(db.Text, primary_key=True) "
   ]
  },
  {
   "cell_type": "code",
   "execution_count": 29,
   "metadata": {},
   "outputs": [
    {
     "ename": "ArgumentError",
     "evalue": "Mapper Mapper|pic|GeoTagData could not assemble any primary key columns for mapped table 'GeoTagData'",
     "output_type": "error",
     "traceback": [
      "\u001b[1;31m---------------------------------------------------------------------------\u001b[0m",
      "\u001b[1;31mArgumentError\u001b[0m                             Traceback (most recent call last)",
      "\u001b[1;32m<ipython-input-29-f38187660333>\u001b[0m in \u001b[0;36m<module>\u001b[1;34m\u001b[0m\n\u001b[0;32m      1\u001b[0m \u001b[1;31m# Create Dog and Cat Classes\u001b[0m\u001b[1;33m\u001b[0m\u001b[1;33m\u001b[0m\u001b[1;33m\u001b[0m\u001b[0m\n\u001b[0;32m      2\u001b[0m \u001b[1;31m# ----------------------------------\u001b[0m\u001b[1;33m\u001b[0m\u001b[1;33m\u001b[0m\u001b[1;33m\u001b[0m\u001b[0m\n\u001b[1;32m----> 3\u001b[1;33m \u001b[1;32mclass\u001b[0m \u001b[0mpic\u001b[0m\u001b[1;33m(\u001b[0m\u001b[0mBase\u001b[0m\u001b[1;33m)\u001b[0m\u001b[1;33m:\u001b[0m\u001b[1;33m\u001b[0m\u001b[1;33m\u001b[0m\u001b[0m\n\u001b[0m\u001b[0;32m      4\u001b[0m     \u001b[0m__tablename__\u001b[0m \u001b[1;33m=\u001b[0m \u001b[1;34m'GeoTagData'\u001b[0m\u001b[1;33m\u001b[0m\u001b[1;33m\u001b[0m\u001b[0m\n\u001b[0;32m      5\u001b[0m     \u001b[0m__table_args__\u001b[0m \u001b[1;33m=\u001b[0m \u001b[1;33m{\u001b[0m \u001b[1;34m'extend_existing'\u001b[0m\u001b[1;33m:\u001b[0m \u001b[1;32mTrue\u001b[0m \u001b[1;33m}\u001b[0m\u001b[1;33m\u001b[0m\u001b[1;33m\u001b[0m\u001b[0m\n",
      "\u001b[1;32m~\\Anaconda3\\envs\\PythonWebMongo\\lib\\site-packages\\sqlalchemy\\ext\\declarative\\api.py\u001b[0m in \u001b[0;36m__init__\u001b[1;34m(cls, classname, bases, dict_)\u001b[0m\n\u001b[0;32m     63\u001b[0m     \u001b[1;32mdef\u001b[0m \u001b[0m__init__\u001b[0m\u001b[1;33m(\u001b[0m\u001b[0mcls\u001b[0m\u001b[1;33m,\u001b[0m \u001b[0mclassname\u001b[0m\u001b[1;33m,\u001b[0m \u001b[0mbases\u001b[0m\u001b[1;33m,\u001b[0m \u001b[0mdict_\u001b[0m\u001b[1;33m)\u001b[0m\u001b[1;33m:\u001b[0m\u001b[1;33m\u001b[0m\u001b[1;33m\u001b[0m\u001b[0m\n\u001b[0;32m     64\u001b[0m         \u001b[1;32mif\u001b[0m \u001b[1;34m'_decl_class_registry'\u001b[0m \u001b[1;32mnot\u001b[0m \u001b[1;32min\u001b[0m \u001b[0mcls\u001b[0m\u001b[1;33m.\u001b[0m\u001b[0m__dict__\u001b[0m\u001b[1;33m:\u001b[0m\u001b[1;33m\u001b[0m\u001b[1;33m\u001b[0m\u001b[0m\n\u001b[1;32m---> 65\u001b[1;33m             \u001b[0m_as_declarative\u001b[0m\u001b[1;33m(\u001b[0m\u001b[0mcls\u001b[0m\u001b[1;33m,\u001b[0m \u001b[0mclassname\u001b[0m\u001b[1;33m,\u001b[0m \u001b[0mcls\u001b[0m\u001b[1;33m.\u001b[0m\u001b[0m__dict__\u001b[0m\u001b[1;33m)\u001b[0m\u001b[1;33m\u001b[0m\u001b[1;33m\u001b[0m\u001b[0m\n\u001b[0m\u001b[0;32m     66\u001b[0m         \u001b[0mtype\u001b[0m\u001b[1;33m.\u001b[0m\u001b[0m__init__\u001b[0m\u001b[1;33m(\u001b[0m\u001b[0mcls\u001b[0m\u001b[1;33m,\u001b[0m \u001b[0mclassname\u001b[0m\u001b[1;33m,\u001b[0m \u001b[0mbases\u001b[0m\u001b[1;33m,\u001b[0m \u001b[0mdict_\u001b[0m\u001b[1;33m)\u001b[0m\u001b[1;33m\u001b[0m\u001b[1;33m\u001b[0m\u001b[0m\n\u001b[0;32m     67\u001b[0m \u001b[1;33m\u001b[0m\u001b[0m\n",
      "\u001b[1;32m~\\Anaconda3\\envs\\PythonWebMongo\\lib\\site-packages\\sqlalchemy\\ext\\declarative\\base.py\u001b[0m in \u001b[0;36m_as_declarative\u001b[1;34m(cls, classname, dict_)\u001b[0m\n\u001b[0;32m    114\u001b[0m         \u001b[1;32mreturn\u001b[0m\u001b[1;33m\u001b[0m\u001b[1;33m\u001b[0m\u001b[0m\n\u001b[0;32m    115\u001b[0m \u001b[1;33m\u001b[0m\u001b[0m\n\u001b[1;32m--> 116\u001b[1;33m     \u001b[0m_MapperConfig\u001b[0m\u001b[1;33m.\u001b[0m\u001b[0msetup_mapping\u001b[0m\u001b[1;33m(\u001b[0m\u001b[0mcls\u001b[0m\u001b[1;33m,\u001b[0m \u001b[0mclassname\u001b[0m\u001b[1;33m,\u001b[0m \u001b[0mdict_\u001b[0m\u001b[1;33m)\u001b[0m\u001b[1;33m\u001b[0m\u001b[1;33m\u001b[0m\u001b[0m\n\u001b[0m\u001b[0;32m    117\u001b[0m \u001b[1;33m\u001b[0m\u001b[0m\n\u001b[0;32m    118\u001b[0m \u001b[1;33m\u001b[0m\u001b[0m\n",
      "\u001b[1;32m~\\Anaconda3\\envs\\PythonWebMongo\\lib\\site-packages\\sqlalchemy\\ext\\declarative\\base.py\u001b[0m in \u001b[0;36msetup_mapping\u001b[1;34m(cls, cls_, classname, dict_)\u001b[0m\n\u001b[0;32m    142\u001b[0m         \u001b[1;32melse\u001b[0m\u001b[1;33m:\u001b[0m\u001b[1;33m\u001b[0m\u001b[1;33m\u001b[0m\u001b[0m\n\u001b[0;32m    143\u001b[0m             \u001b[0mcfg_cls\u001b[0m \u001b[1;33m=\u001b[0m \u001b[0m_MapperConfig\u001b[0m\u001b[1;33m\u001b[0m\u001b[1;33m\u001b[0m\u001b[0m\n\u001b[1;32m--> 144\u001b[1;33m         \u001b[0mcfg_cls\u001b[0m\u001b[1;33m(\u001b[0m\u001b[0mcls_\u001b[0m\u001b[1;33m,\u001b[0m \u001b[0mclassname\u001b[0m\u001b[1;33m,\u001b[0m \u001b[0mdict_\u001b[0m\u001b[1;33m)\u001b[0m\u001b[1;33m\u001b[0m\u001b[1;33m\u001b[0m\u001b[0m\n\u001b[0m\u001b[0;32m    145\u001b[0m \u001b[1;33m\u001b[0m\u001b[0m\n\u001b[0;32m    146\u001b[0m     \u001b[1;32mdef\u001b[0m \u001b[0m__init__\u001b[0m\u001b[1;33m(\u001b[0m\u001b[0mself\u001b[0m\u001b[1;33m,\u001b[0m \u001b[0mcls_\u001b[0m\u001b[1;33m,\u001b[0m \u001b[0mclassname\u001b[0m\u001b[1;33m,\u001b[0m \u001b[0mdict_\u001b[0m\u001b[1;33m)\u001b[0m\u001b[1;33m:\u001b[0m\u001b[1;33m\u001b[0m\u001b[1;33m\u001b[0m\u001b[0m\n",
      "\u001b[1;32m~\\Anaconda3\\envs\\PythonWebMongo\\lib\\site-packages\\sqlalchemy\\ext\\declarative\\base.py\u001b[0m in \u001b[0;36m__init__\u001b[1;34m(self, cls_, classname, dict_)\u001b[0m\n\u001b[0;32m    174\u001b[0m         \u001b[0mself\u001b[0m\u001b[1;33m.\u001b[0m\u001b[0m_setup_inheritance\u001b[0m\u001b[1;33m(\u001b[0m\u001b[1;33m)\u001b[0m\u001b[1;33m\u001b[0m\u001b[1;33m\u001b[0m\u001b[0m\n\u001b[0;32m    175\u001b[0m \u001b[1;33m\u001b[0m\u001b[0m\n\u001b[1;32m--> 176\u001b[1;33m         \u001b[0mself\u001b[0m\u001b[1;33m.\u001b[0m\u001b[0m_early_mapping\u001b[0m\u001b[1;33m(\u001b[0m\u001b[1;33m)\u001b[0m\u001b[1;33m\u001b[0m\u001b[1;33m\u001b[0m\u001b[0m\n\u001b[0m\u001b[0;32m    177\u001b[0m \u001b[1;33m\u001b[0m\u001b[0m\n\u001b[0;32m    178\u001b[0m     \u001b[1;32mdef\u001b[0m \u001b[0m_early_mapping\u001b[0m\u001b[1;33m(\u001b[0m\u001b[0mself\u001b[0m\u001b[1;33m)\u001b[0m\u001b[1;33m:\u001b[0m\u001b[1;33m\u001b[0m\u001b[1;33m\u001b[0m\u001b[0m\n",
      "\u001b[1;32m~\\Anaconda3\\envs\\PythonWebMongo\\lib\\site-packages\\sqlalchemy\\ext\\declarative\\base.py\u001b[0m in \u001b[0;36m_early_mapping\u001b[1;34m(self)\u001b[0m\n\u001b[0;32m    177\u001b[0m \u001b[1;33m\u001b[0m\u001b[0m\n\u001b[0;32m    178\u001b[0m     \u001b[1;32mdef\u001b[0m \u001b[0m_early_mapping\u001b[0m\u001b[1;33m(\u001b[0m\u001b[0mself\u001b[0m\u001b[1;33m)\u001b[0m\u001b[1;33m:\u001b[0m\u001b[1;33m\u001b[0m\u001b[1;33m\u001b[0m\u001b[0m\n\u001b[1;32m--> 179\u001b[1;33m         \u001b[0mself\u001b[0m\u001b[1;33m.\u001b[0m\u001b[0mmap\u001b[0m\u001b[1;33m(\u001b[0m\u001b[1;33m)\u001b[0m\u001b[1;33m\u001b[0m\u001b[1;33m\u001b[0m\u001b[0m\n\u001b[0m\u001b[0;32m    180\u001b[0m \u001b[1;33m\u001b[0m\u001b[0m\n\u001b[0;32m    181\u001b[0m     \u001b[1;32mdef\u001b[0m \u001b[0m_setup_declared_events\u001b[0m\u001b[1;33m(\u001b[0m\u001b[0mself\u001b[0m\u001b[1;33m)\u001b[0m\u001b[1;33m:\u001b[0m\u001b[1;33m\u001b[0m\u001b[1;33m\u001b[0m\u001b[0m\n",
      "\u001b[1;32m~\\Anaconda3\\envs\\PythonWebMongo\\lib\\site-packages\\sqlalchemy\\ext\\declarative\\base.py\u001b[0m in \u001b[0;36mmap\u001b[1;34m(self)\u001b[0m\n\u001b[0;32m    636\u001b[0m             \u001b[0mself\u001b[0m\u001b[1;33m.\u001b[0m\u001b[0mcls\u001b[0m\u001b[1;33m,\u001b[0m\u001b[1;33m\u001b[0m\u001b[1;33m\u001b[0m\u001b[0m\n\u001b[0;32m    637\u001b[0m             \u001b[0mself\u001b[0m\u001b[1;33m.\u001b[0m\u001b[0mlocal_table\u001b[0m\u001b[1;33m,\u001b[0m\u001b[1;33m\u001b[0m\u001b[1;33m\u001b[0m\u001b[0m\n\u001b[1;32m--> 638\u001b[1;33m             \u001b[1;33m**\u001b[0m\u001b[0mself\u001b[0m\u001b[1;33m.\u001b[0m\u001b[0mmapper_args\u001b[0m\u001b[1;33m\u001b[0m\u001b[1;33m\u001b[0m\u001b[0m\n\u001b[0m\u001b[0;32m    639\u001b[0m         )\n\u001b[0;32m    640\u001b[0m         \u001b[1;32mdel\u001b[0m \u001b[0mself\u001b[0m\u001b[1;33m.\u001b[0m\u001b[0mcls\u001b[0m\u001b[1;33m.\u001b[0m\u001b[0m_sa_declared_attr_reg\u001b[0m\u001b[1;33m\u001b[0m\u001b[1;33m\u001b[0m\u001b[0m\n",
      "\u001b[1;32m<string>\u001b[0m in \u001b[0;36mmapper\u001b[1;34m(class_, local_table, properties, primary_key, non_primary, inherits, inherit_condition, inherit_foreign_keys, extension, order_by, always_refresh, version_id_col, version_id_generator, polymorphic_on, _polymorphic_map, polymorphic_identity, concrete, with_polymorphic, polymorphic_load, allow_partial_pks, batch, column_prefix, include_properties, exclude_properties, passive_updates, passive_deletes, confirm_deleted_rows, eager_defaults, legacy_is_orphan, _compiled_cache_size)\u001b[0m\n",
      "\u001b[1;32m~\\Anaconda3\\envs\\PythonWebMongo\\lib\\site-packages\\sqlalchemy\\orm\\mapper.py\u001b[0m in \u001b[0;36m__init__\u001b[1;34m(self, class_, local_table, properties, primary_key, non_primary, inherits, inherit_condition, inherit_foreign_keys, extension, order_by, always_refresh, version_id_col, version_id_generator, polymorphic_on, _polymorphic_map, polymorphic_identity, concrete, with_polymorphic, polymorphic_load, allow_partial_pks, batch, column_prefix, include_properties, exclude_properties, passive_updates, passive_deletes, confirm_deleted_rows, eager_defaults, legacy_is_orphan, _compiled_cache_size)\u001b[0m\n\u001b[0;32m    696\u001b[0m             \u001b[0mself\u001b[0m\u001b[1;33m.\u001b[0m\u001b[0m_configure_properties\u001b[0m\u001b[1;33m(\u001b[0m\u001b[1;33m)\u001b[0m\u001b[1;33m\u001b[0m\u001b[1;33m\u001b[0m\u001b[0m\n\u001b[0;32m    697\u001b[0m             \u001b[0mself\u001b[0m\u001b[1;33m.\u001b[0m\u001b[0m_configure_polymorphic_setter\u001b[0m\u001b[1;33m(\u001b[0m\u001b[1;33m)\u001b[0m\u001b[1;33m\u001b[0m\u001b[1;33m\u001b[0m\u001b[0m\n\u001b[1;32m--> 698\u001b[1;33m             \u001b[0mself\u001b[0m\u001b[1;33m.\u001b[0m\u001b[0m_configure_pks\u001b[0m\u001b[1;33m(\u001b[0m\u001b[1;33m)\u001b[0m\u001b[1;33m\u001b[0m\u001b[1;33m\u001b[0m\u001b[0m\n\u001b[0m\u001b[0;32m    699\u001b[0m             \u001b[0mMapper\u001b[0m\u001b[1;33m.\u001b[0m\u001b[0m_new_mappers\u001b[0m \u001b[1;33m=\u001b[0m \u001b[1;32mTrue\u001b[0m\u001b[1;33m\u001b[0m\u001b[1;33m\u001b[0m\u001b[0m\n\u001b[0;32m    700\u001b[0m             \u001b[0mself\u001b[0m\u001b[1;33m.\u001b[0m\u001b[0m_log\u001b[0m\u001b[1;33m(\u001b[0m\u001b[1;34m\"constructed\"\u001b[0m\u001b[1;33m)\u001b[0m\u001b[1;33m\u001b[0m\u001b[1;33m\u001b[0m\u001b[0m\n",
      "\u001b[1;32m~\\Anaconda3\\envs\\PythonWebMongo\\lib\\site-packages\\sqlalchemy\\orm\\mapper.py\u001b[0m in \u001b[0;36m_configure_pks\u001b[1;34m(self)\u001b[0m\n\u001b[0;32m   1329\u001b[0m                 \u001b[1;34m\"Mapper %s could not assemble any primary \"\u001b[0m\u001b[1;33m\u001b[0m\u001b[1;33m\u001b[0m\u001b[0m\n\u001b[0;32m   1330\u001b[0m                 \u001b[1;34m\"key columns for mapped table '%s'\"\u001b[0m \u001b[1;33m%\u001b[0m\u001b[1;33m\u001b[0m\u001b[1;33m\u001b[0m\u001b[0m\n\u001b[1;32m-> 1331\u001b[1;33m                 (self, self.mapped_table.description))\n\u001b[0m\u001b[0;32m   1332\u001b[0m         \u001b[1;32melif\u001b[0m \u001b[0mself\u001b[0m\u001b[1;33m.\u001b[0m\u001b[0mlocal_table\u001b[0m \u001b[1;32mnot\u001b[0m \u001b[1;32min\u001b[0m \u001b[0mself\u001b[0m\u001b[1;33m.\u001b[0m\u001b[0m_pks_by_table\u001b[0m \u001b[1;32mand\u001b[0m\u001b[0;31m \u001b[0m\u001b[0;31m\\\u001b[0m\u001b[1;33m\u001b[0m\u001b[1;33m\u001b[0m\u001b[0m\n\u001b[0;32m   1333\u001b[0m                 \u001b[0misinstance\u001b[0m\u001b[1;33m(\u001b[0m\u001b[0mself\u001b[0m\u001b[1;33m.\u001b[0m\u001b[0mlocal_table\u001b[0m\u001b[1;33m,\u001b[0m \u001b[0mschema\u001b[0m\u001b[1;33m.\u001b[0m\u001b[0mTable\u001b[0m\u001b[1;33m)\u001b[0m\u001b[1;33m:\u001b[0m\u001b[1;33m\u001b[0m\u001b[1;33m\u001b[0m\u001b[0m\n",
      "\u001b[1;31mArgumentError\u001b[0m: Mapper Mapper|pic|GeoTagData could not assemble any primary key columns for mapped table 'GeoTagData'"
     ]
    }
   ],
   "source": [
    "# Create Dog and Cat Classes\n",
    "# ----------------------------------\n",
    "class pic(Base):\n",
    "    __tablename__ = 'GeoTagData'\n",
    "    __table_args__ = { 'extend_existing': True }\n",
    "    Unnamed=Column(Integer, primary_key=True) ,\n",
    "    index=Column (Integer),\n",
    "    latitude= Column (Float),\n",
    "    longitude= Column (Float),\n",
    "    landmark=Column(String(255)),\n",
    "    country=Column(String(255)),\n",
    "    state=Column(String(255)),\n",
    "    county=Column(String(255)),\n",
    "    city=Column(String(255)),\n",
    "    zipcode=Column(Integer),\n",
    "    ImageTimeStamp=Column(String(255)),\n",
    "    FileAddress=Column(String(255))\n",
    "  "
   ]
  },
  {
   "cell_type": "code",
   "execution_count": 14,
   "metadata": {},
   "outputs": [
    {
     "name": "stdout",
     "output_type": "stream",
     "text": [
      "static/Images/uploads/test.jpg\n",
      "{'latitude': 44.98036, 'longitude': -93.26508, 'landmark': 'Downtown West, Minneapolis, MN, United States', 'country': 'USA', 'state': 'MN', 'county': 'Hennepin', 'city': 'Minneapolis', 'zipcode': '55401', 'ImageTimeStamp': '2019-07-16', 'FileAddress': '../static/static/Images/uploads/test.jpg'}\n"
     ]
    }
   ],
   "source": [
    "# add the new picture data into a dataframe\n",
    "import ProcessPicture\n",
    "picAddress=\"static/Images/uploads/test.jpg\"\n",
    "print (picAddress)\n",
    "# execute function into a variable\n",
    "df=ProcessPicture.ExtractPicData(picAddress)\n",
    "print(df)"
   ]
  },
  {
   "cell_type": "code",
   "execution_count": 15,
   "metadata": {},
   "outputs": [],
   "source": [
    "# Create variables to hold new picture data info\n",
    "FileAddress=df['FileAddress']\n",
    "ImageTimeStamp=df['ImageTimeStamp']\n",
    "city=df['city']\n",
    "country=df['country']\n",
    "county=df['county']\n",
    "landmark=df['landmark']\n",
    "latitude=df['latitude']\n",
    "longitude=df['longitude']\n",
    "state=df['state']\n",
    "zipcode=df['zipcode']\n",
    "index=10"
   ]
  },
  {
   "cell_type": "code",
   "execution_count": 16,
   "metadata": {},
   "outputs": [],
   "source": [
    "# update the pic class with the dataframe varables\n",
    "pictureData=pic(FileAddress=FileAddress,ImageTimeStamp=ImageTimeStamp, city=city, country=country,county=county, landmark=landmark, latitude=latitude, longitude=longitude,state=state,zipcode=zipcode) "
   ]
  },
  {
   "cell_type": "code",
   "execution_count": 17,
   "metadata": {},
   "outputs": [],
   "source": [
    "# Create Database Connection\n",
    "# ----------------------------------\n",
    "database_path = \"db/Oldports.sqlite\"\n",
    "engine = create_engine(f\"sqlite:///{database_path}\")\n",
    "conn = engine.connect()"
   ]
  },
  {
   "cell_type": "code",
   "execution_count": 18,
   "metadata": {},
   "outputs": [
    {
     "name": "stdout",
     "output_type": "stream",
     "text": [
      "[\"('GeoTagData', 'extend_existing=True')\", \"('NewPic', 'extend_existing=True')\", 'GeoTagData', 'NewPic', 'test']\n"
     ]
    }
   ],
   "source": [
    "print (engine.table_names()) \n",
    "\n",
    "#data = engine.execute(\"select * from pets_db\").keys() \n"
   ]
  },
  {
   "cell_type": "code",
   "execution_count": 19,
   "metadata": {},
   "outputs": [
    {
     "data": {
      "text/plain": [
       "['index',\n",
       " 'Unnamed: 0',\n",
       " 'FileAddress',\n",
       " 'ImageTimeStamp',\n",
       " 'city',\n",
       " 'country',\n",
       " 'county',\n",
       " 'landmark',\n",
       " 'latitude',\n",
       " 'longitude',\n",
       " 'state',\n",
       " 'zipcode']"
      ]
     },
     "execution_count": 19,
     "metadata": {},
     "output_type": "execute_result"
    }
   ],
   "source": [
    "data = engine.execute(\"select * from GeoTagData\").keys() \n",
    "data"
   ]
  },
  {
   "cell_type": "code",
   "execution_count": 20,
   "metadata": {},
   "outputs": [
    {
     "name": "stdout",
     "output_type": "stream",
     "text": [
      "(0, 0, '../static/images/20190704_210738_Film3.jpg', '2019-07-16', 'Washington', 'USA', 'District of Columbia', 'Washington Mall, Washington, DC, United States', 38.891420000000004, -77.03367, 'DC', 20004)\n",
      "(1, 1, '../static/images/IMG_3416.jpg', '2019-07-16', 'St Paul', 'USA', 'Ramsey', 'Summit-University, St Paul, MN, United States', 44.95129, -93.12664000000001, 'MN', 55104)\n",
      "(2, 2, '../static/images/IMG_3421.jpg', '2019-07-16', 'St Paul', 'USA', 'Ramsey', 'Summit-University, St Paul, MN, United States', 44.95129, -93.12664000000001, 'MN', 55104)\n",
      "(3, 3, '../static/images/IMG_3430.jpg', '2019-07-16', 'St Paul', 'USA', 'Ramsey', 'Summit-University, St Paul, MN, United States', 44.95129, -93.12664000000001, 'MN', 55104)\n",
      "(4, 4, '../static/images/IMG_3573.jpg', '2019-07-16', 'Minneapolis', 'USA', 'Hennepin', 'Downtown West, Minneapolis, MN, United States', 44.98036, -93.26508000000001, 'MN', 55401)\n",
      "(5, 5, '../static/images/IMG_3574.jpg', '2019-07-16', 'St Paul', 'USA', 'Ramsey', 'Summit-University, St Paul, MN, United States', 44.95129, -93.12664000000001, 'MN', 55104)\n",
      "(6, 6, '../static/images/IMG_3660.jpg', '2019-07-16', 'Minneapolis', 'USA', 'Hennepin', 'Downtown West, Minneapolis, MN, United States', 44.98036, -93.26508000000001, 'MN', 55401)\n",
      "(7, 7, '../static/images/IMG_3680.jpg', '2019-07-16', 'Minneapolis', 'USA', 'Hennepin', 'Downtown West, Minneapolis, MN, United States', 44.98036, -93.26508000000001, 'MN', 55401)\n",
      "(8, 8, '../static/images/IMG_3695.jpg', '2019-07-16', 'St Paul', 'USA', 'Ramsey', 'Downtown, St Paul, MN, United States', 44.94961, -93.0934, 'MN', 55101)\n",
      "(9, 9, '../static/images/IMG_3698.jpg', '2019-07-16', 'St Paul', 'USA', 'Ramsey', 'Downtown, St Paul, MN, United States', 44.94961, -93.0934, 'MN', 55101)\n",
      "(10, 10, '../static/images/IMG_3712.jpg', '2019-07-16', 'St Paul', 'USA', 'Ramsey', 'Summit-University, St Paul, MN, United States', 44.95129, -93.12664000000001, 'MN', 55104)\n",
      "(11, 11, '../static/images/IMG_3731.jpg', '2019-07-16', 'St Paul', 'USA', 'Ramsey', 'Summit-University, St Paul, MN, United States', 44.95129, -93.12664000000001, 'MN', 55104)\n",
      "(12, 12, '../static/images/IMG_3820.jpg', '2019-07-16', 'St Paul', 'USA', 'Ramsey', 'West 7th, St Paul, MN, United States', 44.93077, -93.12225, 'MN', 55102)\n",
      "(13, 13, '../static/images/IMG_3822.jpg', '2019-07-16', 'St Paul', 'USA', 'Ramsey', 'West 7th, St Paul, MN, United States', 44.93077, -93.12225, 'MN', 55102)\n",
      "(14, 14, '../static/images/IMG_3823.jpg', '2019-07-16', 'St Paul', 'USA', 'Ramsey', 'West 7th, St Paul, MN, United States', 44.93077, -93.12225, 'MN', 55102)\n",
      "(15, 15, '../static/images/IMG_3905.jpg', '2019-07-16', 'St Paul', 'USA', 'Ramsey', 'West 7th, St Paul, MN, United States', 44.93077, -93.12225, 'MN', 55102)\n",
      "(16, 16, '../static/images/IMG_3947.jpg', '2019-07-16', 'St Paul', 'USA', 'Ramsey', 'Concord-Robert, St Paul, MN, United States', 44.93586, -93.07428, 'MN', 55107)\n",
      "(17, 17, '../static/images/IMG_3996.jpg', '2019-07-16', 'Minneapolis', 'USA', 'Hennepin', 'Whittier, Minneapolis, MN, United States', 44.95731, -93.28044, 'MN', 55404)\n",
      "(18, 18, '../static/images/IMG_4128.jpg', '2019-07-16', 'Roseville', 'USA', 'Ramsey', 'Roseville, MN, United States', 45.02173, -93.14928, 'MN', 55113)\n",
      "(19, 19, '../static/images/IMG_4174.jpg', '2019-07-16', 'St Paul', 'USA', 'Ramsey', 'Summit-University, St Paul, MN, United States', 44.95129, -93.12664000000001, 'MN', 55104)\n",
      "(20, 20, '../static/images/IMG_4188.jpg', '2019-07-16', 'St Paul', 'USA', 'Ramsey', 'Selby Ave, St Paul, MN 55104, United States', 44.94658, -93.12646, 'MN', 55104)\n",
      "(21, 21, '../static/images/IMG_4235.jpg', '2019-07-16', 'Richfield', 'USA', 'Hennepin', 'Richfield, MN, United States', 44.88109, -93.26791999999999, 'MN', 55423)\n",
      "(22, 22, '../static/images/IMG_4358.jpg', '2019-07-16', 'St Paul', 'USA', 'Ramsey', 'Summit-University, St Paul, MN, United States', 44.95129, -93.12664000000001, 'MN', 55104)\n"
     ]
    }
   ],
   "source": [
    "data = engine.execute(\"SELECT * FROM GeoTagData\")\n",
    "for record in data:\n",
    "    print(record)\n"
   ]
  },
  {
   "cell_type": "code",
   "execution_count": 21,
   "metadata": {},
   "outputs": [],
   "source": [
    "# Create a \"Metadata\" Layer That Abstracts our SQL Database\n",
    "# ----------------------------------\n",
    "Base.metadata.create_all(engine)\n",
    "\n",
    "# Use this to clear out the db\n",
    "# ----------------------------------\n",
    "# Base.metadata.drop_all(engine)"
   ]
  },
  {
   "cell_type": "code",
   "execution_count": 22,
   "metadata": {},
   "outputs": [],
   "source": [
    "# Create a Session Object to Connect to DB\n",
    "# ----------------------------------\n",
    "from sqlalchemy.orm import Session\n",
    "session = Session(bind=engine)"
   ]
  },
  {
   "cell_type": "code",
   "execution_count": 23,
   "metadata": {},
   "outputs": [],
   "source": [
    "# Add Records to the Appropriate DB\n",
    "# ----------------------------------\n",
    "session.add(pictureData)\n",
    "\n",
    "session.commit()"
   ]
  },
  {
   "cell_type": "code",
   "execution_count": 25,
   "metadata": {},
   "outputs": [
    {
     "name": "stdout",
     "output_type": "stream",
     "text": [
      "<__main__.pic object at 0x0000021D4E46B860>\n",
      "<__main__.pic object at 0x0000021D4E3D4E48>\n"
     ]
    }
   ],
   "source": [
    "# Query the Tables\n",
    "# ----------------------------------\n",
    "pic_list = session.query(pic)\n",
    "for picture in pic_list:\n",
    "    print(picture)"
   ]
  },
  {
   "cell_type": "code",
   "execution_count": 26,
   "metadata": {
    "scrolled": true
   },
   "outputs": [
    {
     "name": "stdout",
     "output_type": "stream",
     "text": [
      "(0, 0, '../static/images/20190704_210738_Film3.jpg', '2019-07-16', 'Washington', 'USA', 'District of Columbia', 'Washington Mall, Washington, DC, United States', 38.891420000000004, -77.03367, 'DC', 20004)\n",
      "(1, 1, '../static/images/IMG_3416.jpg', '2019-07-16', 'St Paul', 'USA', 'Ramsey', 'Summit-University, St Paul, MN, United States', 44.95129, -93.12664000000001, 'MN', 55104)\n",
      "(2, 2, '../static/images/IMG_3421.jpg', '2019-07-16', 'St Paul', 'USA', 'Ramsey', 'Summit-University, St Paul, MN, United States', 44.95129, -93.12664000000001, 'MN', 55104)\n",
      "(3, 3, '../static/images/IMG_3430.jpg', '2019-07-16', 'St Paul', 'USA', 'Ramsey', 'Summit-University, St Paul, MN, United States', 44.95129, -93.12664000000001, 'MN', 55104)\n",
      "(4, 4, '../static/images/IMG_3573.jpg', '2019-07-16', 'Minneapolis', 'USA', 'Hennepin', 'Downtown West, Minneapolis, MN, United States', 44.98036, -93.26508000000001, 'MN', 55401)\n",
      "(5, 5, '../static/images/IMG_3574.jpg', '2019-07-16', 'St Paul', 'USA', 'Ramsey', 'Summit-University, St Paul, MN, United States', 44.95129, -93.12664000000001, 'MN', 55104)\n",
      "(6, 6, '../static/images/IMG_3660.jpg', '2019-07-16', 'Minneapolis', 'USA', 'Hennepin', 'Downtown West, Minneapolis, MN, United States', 44.98036, -93.26508000000001, 'MN', 55401)\n",
      "(7, 7, '../static/images/IMG_3680.jpg', '2019-07-16', 'Minneapolis', 'USA', 'Hennepin', 'Downtown West, Minneapolis, MN, United States', 44.98036, -93.26508000000001, 'MN', 55401)\n",
      "(8, 8, '../static/images/IMG_3695.jpg', '2019-07-16', 'St Paul', 'USA', 'Ramsey', 'Downtown, St Paul, MN, United States', 44.94961, -93.0934, 'MN', 55101)\n",
      "(9, 9, '../static/images/IMG_3698.jpg', '2019-07-16', 'St Paul', 'USA', 'Ramsey', 'Downtown, St Paul, MN, United States', 44.94961, -93.0934, 'MN', 55101)\n",
      "(10, 10, '../static/images/IMG_3712.jpg', '2019-07-16', 'St Paul', 'USA', 'Ramsey', 'Summit-University, St Paul, MN, United States', 44.95129, -93.12664000000001, 'MN', 55104)\n",
      "(11, 11, '../static/images/IMG_3731.jpg', '2019-07-16', 'St Paul', 'USA', 'Ramsey', 'Summit-University, St Paul, MN, United States', 44.95129, -93.12664000000001, 'MN', 55104)\n",
      "(12, 12, '../static/images/IMG_3820.jpg', '2019-07-16', 'St Paul', 'USA', 'Ramsey', 'West 7th, St Paul, MN, United States', 44.93077, -93.12225, 'MN', 55102)\n",
      "(13, 13, '../static/images/IMG_3822.jpg', '2019-07-16', 'St Paul', 'USA', 'Ramsey', 'West 7th, St Paul, MN, United States', 44.93077, -93.12225, 'MN', 55102)\n",
      "(14, 14, '../static/images/IMG_3823.jpg', '2019-07-16', 'St Paul', 'USA', 'Ramsey', 'West 7th, St Paul, MN, United States', 44.93077, -93.12225, 'MN', 55102)\n",
      "(15, 15, '../static/images/IMG_3905.jpg', '2019-07-16', 'St Paul', 'USA', 'Ramsey', 'West 7th, St Paul, MN, United States', 44.93077, -93.12225, 'MN', 55102)\n",
      "(16, 16, '../static/images/IMG_3947.jpg', '2019-07-16', 'St Paul', 'USA', 'Ramsey', 'Concord-Robert, St Paul, MN, United States', 44.93586, -93.07428, 'MN', 55107)\n",
      "(17, 17, '../static/images/IMG_3996.jpg', '2019-07-16', 'Minneapolis', 'USA', 'Hennepin', 'Whittier, Minneapolis, MN, United States', 44.95731, -93.28044, 'MN', 55404)\n",
      "(18, 18, '../static/images/IMG_4128.jpg', '2019-07-16', 'Roseville', 'USA', 'Ramsey', 'Roseville, MN, United States', 45.02173, -93.14928, 'MN', 55113)\n",
      "(19, 19, '../static/images/IMG_4174.jpg', '2019-07-16', 'St Paul', 'USA', 'Ramsey', 'Summit-University, St Paul, MN, United States', 44.95129, -93.12664000000001, 'MN', 55104)\n",
      "(20, 20, '../static/images/IMG_4188.jpg', '2019-07-16', 'St Paul', 'USA', 'Ramsey', 'Selby Ave, St Paul, MN 55104, United States', 44.94658, -93.12646, 'MN', 55104)\n",
      "(21, 21, '../static/images/IMG_4235.jpg', '2019-07-16', 'Richfield', 'USA', 'Hennepin', 'Richfield, MN, United States', 44.88109, -93.26791999999999, 'MN', 55423)\n",
      "(22, 22, '../static/images/IMG_4358.jpg', '2019-07-16', 'St Paul', 'USA', 'Ramsey', 'Summit-University, St Paul, MN, United States', 44.95129, -93.12664000000001, 'MN', 55104)\n"
     ]
    }
   ],
   "source": [
    "data = engine.execute(\"SELECT * FROM GeoTagData\")\n",
    "for record in data:\n",
    "    print(record)"
   ]
  },
  {
   "cell_type": "code",
   "execution_count": 5,
   "metadata": {},
   "outputs": [
    {
     "name": "stdout",
     "output_type": "stream",
     "text": [
      "Opened database successfully\n"
     ]
    }
   ],
   "source": [
    "import sqlite3\n",
    "\n",
    "conn = sqlite3.connect('db/Oldports.sqlite')\n",
    "print (\"Opened database successfully\")\n",
    "\n",
    "data=conn.execute(\"SELECT * FROM test\")\n",
    "for record in data:\n",
    "     print(record)"
   ]
  },
  {
   "cell_type": "code",
   "execution_count": 10,
   "metadata": {},
   "outputs": [
    {
     "ename": "ProgrammingError",
     "evalue": "Incorrect number of bindings supplied. The current statement uses 1, and there are 4 supplied.",
     "output_type": "error",
     "traceback": [
      "\u001b[1;31m---------------------------------------------------------------------------\u001b[0m",
      "\u001b[1;31mProgrammingError\u001b[0m                          Traceback (most recent call last)",
      "\u001b[1;32m<ipython-input-10-e8457ab19703>\u001b[0m in \u001b[0;36m<module>\u001b[1;34m\u001b[0m\n\u001b[0;32m      2\u001b[0m \u001b[1;32mwith\u001b[0m \u001b[0msql\u001b[0m\u001b[1;33m.\u001b[0m\u001b[0mconnect\u001b[0m\u001b[1;33m(\u001b[0m\u001b[1;34m'db/Oldports.sqlite'\u001b[0m\u001b[1;33m)\u001b[0m \u001b[1;32mas\u001b[0m \u001b[0mcon\u001b[0m\u001b[1;33m:\u001b[0m\u001b[1;33m\u001b[0m\u001b[1;33m\u001b[0m\u001b[0m\n\u001b[0;32m      3\u001b[0m             \u001b[0mcur\u001b[0m \u001b[1;33m=\u001b[0m \u001b[0mcon\u001b[0m\u001b[1;33m.\u001b[0m\u001b[0mcursor\u001b[0m\u001b[1;33m(\u001b[0m\u001b[1;33m)\u001b[0m\u001b[1;33m\u001b[0m\u001b[1;33m\u001b[0m\u001b[0m\n\u001b[1;32m----> 4\u001b[1;33m             \u001b[0mcur\u001b[0m\u001b[1;33m.\u001b[0m\u001b[0mexecute\u001b[0m\u001b[1;33m(\u001b[0m\u001b[1;34m\"INSERT INTO test (name) VALUES (?)\"\u001b[0m\u001b[1;33m,\u001b[0m\u001b[1;33m(\u001b[0m\u001b[1;34m\"test\"\u001b[0m\u001b[1;33m)\u001b[0m \u001b[1;33m)\u001b[0m\u001b[1;33m\u001b[0m\u001b[1;33m\u001b[0m\u001b[0m\n\u001b[0m\u001b[0;32m      5\u001b[0m             \u001b[0mcon\u001b[0m\u001b[1;33m.\u001b[0m\u001b[0mcommit\u001b[0m\u001b[1;33m(\u001b[0m\u001b[1;33m)\u001b[0m\u001b[1;33m\u001b[0m\u001b[1;33m\u001b[0m\u001b[0m\n",
      "\u001b[1;31mProgrammingError\u001b[0m: Incorrect number of bindings supplied. The current statement uses 1, and there are 4 supplied."
     ]
    }
   ],
   "source": [
    "import sqlite3 as sql\n",
    "with sql.connect('db/Oldports.sqlite') as con:\n",
    "            cur = con.cursor()\n",
    "            cur.execute(\"INSERT INTO test (name) VALUES (?)\",(\"test\") )\n",
    "            con.commit()"
   ]
  },
  {
   "cell_type": "code",
   "execution_count": 2,
   "metadata": {
    "scrolled": true
   },
   "outputs": [
    {
     "ename": "NameError",
     "evalue": "name 'FileAddress' is not defined",
     "output_type": "error",
     "traceback": [
      "\u001b[1;31m---------------------------------------------------------------------------\u001b[0m",
      "\u001b[1;31mNameError\u001b[0m                                 Traceback (most recent call last)",
      "\u001b[1;32m<ipython-input-2-c023e3e24b88>\u001b[0m in \u001b[0;36m<module>\u001b[1;34m\u001b[0m\n\u001b[0;32m      2\u001b[0m \u001b[1;32mwith\u001b[0m \u001b[0msql\u001b[0m\u001b[1;33m.\u001b[0m\u001b[0mconnect\u001b[0m\u001b[1;33m(\u001b[0m\u001b[1;34m'db/Oldports.sqlite'\u001b[0m\u001b[1;33m)\u001b[0m \u001b[1;32mas\u001b[0m \u001b[0mcon\u001b[0m\u001b[1;33m:\u001b[0m\u001b[1;33m\u001b[0m\u001b[1;33m\u001b[0m\u001b[0m\n\u001b[0;32m      3\u001b[0m             \u001b[0mcur\u001b[0m \u001b[1;33m=\u001b[0m \u001b[0mcon\u001b[0m\u001b[1;33m.\u001b[0m\u001b[0mcursor\u001b[0m\u001b[1;33m(\u001b[0m\u001b[1;33m)\u001b[0m\u001b[1;33m\u001b[0m\u001b[1;33m\u001b[0m\u001b[0m\n\u001b[1;32m----> 4\u001b[1;33m             \u001b[0mcur\u001b[0m\u001b[1;33m.\u001b[0m\u001b[0mexecute\u001b[0m\u001b[1;33m(\u001b[0m\u001b[1;34m\"INSERT INTO GeoTagData (index,FileAddress,ImageTimeStamp,city,country,county,landmark,latitude,longitude,state,zipcode) VALUES (?,?,?,?,?,?,?,?,?,?,?)\"\u001b[0m\u001b[1;33m,\u001b[0m\u001b[1;33m(\u001b[0m\u001b[1;36m1\u001b[0m\u001b[1;33m,\u001b[0m\u001b[0mFileAddress\u001b[0m\u001b[1;33m,\u001b[0m\u001b[0mImageTimeStamp\u001b[0m\u001b[1;33m,\u001b[0m\u001b[0mcity\u001b[0m\u001b[1;33m,\u001b[0m\u001b[0mcountry\u001b[0m\u001b[1;33m,\u001b[0m\u001b[0mcounty\u001b[0m\u001b[1;33m,\u001b[0m\u001b[0mlandmark\u001b[0m\u001b[1;33m,\u001b[0m\u001b[0mlatitude\u001b[0m\u001b[1;33m,\u001b[0m\u001b[0mlongitude\u001b[0m\u001b[1;33m,\u001b[0m\u001b[0mstate\u001b[0m\u001b[1;33m,\u001b[0m\u001b[0mzipcode\u001b[0m\u001b[1;33m)\u001b[0m \u001b[1;33m)\u001b[0m\u001b[1;33m\u001b[0m\u001b[1;33m\u001b[0m\u001b[0m\n\u001b[0m\u001b[0;32m      5\u001b[0m             \u001b[0mcon\u001b[0m\u001b[1;33m.\u001b[0m\u001b[0mcommit\u001b[0m\u001b[1;33m(\u001b[0m\u001b[1;33m)\u001b[0m\u001b[1;33m\u001b[0m\u001b[1;33m\u001b[0m\u001b[0m\n",
      "\u001b[1;31mNameError\u001b[0m: name 'FileAddress' is not defined"
     ]
    }
   ],
   "source": [
    "import sqlite3 as sql\n",
    "with sql.connect('db/Oldports.sqlite') as con:\n",
    "            cur = con.cursor()\n",
    "            cur.execute(\"INSERT INTO GeoTagData (index,FileAddress,ImageTimeStamp,city,country,county,landmark,latitude,longitude,state,zipcode) VALUES (?,?,?,?,?,?,?,?,?,?,?)\",(1,FileAddress,ImageTimeStamp,city,country,county,landmark,latitude,longitude,state,zipcode) )\n",
    "            con.commit()"
   ]
  },
  {
   "cell_type": "code",
   "execution_count": null,
   "metadata": {},
   "outputs": [],
   "source": [
    "with sql.connect(\"database.db\") as con:\n",
    "        cur = con.cursor()\n",
    "        cur.execute(\"INSERT INTO link (key,url,hits) VALUES (?,?,?)\", (key,url,hits))\n",
    "        con.commit()"
   ]
  },
  {
   "cell_type": "code",
   "execution_count": 24,
   "metadata": {},
   "outputs": [
    {
     "ename": "ProgrammingError",
     "evalue": "Incorrect number of bindings supplied. The current statement uses 1, and there are 6 supplied.",
     "output_type": "error",
     "traceback": [
      "\u001b[1;31m---------------------------------------------------------------------------\u001b[0m",
      "\u001b[1;31mProgrammingError\u001b[0m                          Traceback (most recent call last)",
      "\u001b[1;32m<ipython-input-24-db8bcd7a0ca3>\u001b[0m in \u001b[0;36m<module>\u001b[1;34m\u001b[0m\n\u001b[0;32m      2\u001b[0m \u001b[1;32mwith\u001b[0m \u001b[0msqlite3\u001b[0m\u001b[1;33m.\u001b[0m\u001b[0mconnect\u001b[0m\u001b[1;33m(\u001b[0m\u001b[1;34m'db/Oldports.sqlite'\u001b[0m\u001b[1;33m)\u001b[0m \u001b[1;32mas\u001b[0m \u001b[0mcon\u001b[0m\u001b[1;33m:\u001b[0m\u001b[1;33m\u001b[0m\u001b[1;33m\u001b[0m\u001b[0m\n\u001b[0;32m      3\u001b[0m             \u001b[0mcur\u001b[0m \u001b[1;33m=\u001b[0m \u001b[0mcon\u001b[0m\u001b[1;33m.\u001b[0m\u001b[0mcursor\u001b[0m\u001b[1;33m(\u001b[0m\u001b[1;33m)\u001b[0m\u001b[1;33m\u001b[0m\u001b[1;33m\u001b[0m\u001b[0m\n\u001b[1;32m----> 4\u001b[1;33m             \u001b[0mcur\u001b[0m\u001b[1;33m.\u001b[0m\u001b[0mexecute\u001b[0m\u001b[1;33m(\u001b[0m\u001b[1;34m\"INSERT INTO test (name) VALUES (?)\"\u001b[0m\u001b[1;33m,\u001b[0m\u001b[1;33m(\u001b[0m\u001b[1;34m'Sandra'\u001b[0m\u001b[1;33m)\u001b[0m \u001b[1;33m)\u001b[0m\u001b[1;33m\u001b[0m\u001b[1;33m\u001b[0m\u001b[0m\n\u001b[0m\u001b[0;32m      5\u001b[0m \u001b[1;33m\u001b[0m\u001b[0m\n\u001b[0;32m      6\u001b[0m             \u001b[0mcon\u001b[0m\u001b[1;33m.\u001b[0m\u001b[0mcommit\u001b[0m\u001b[1;33m(\u001b[0m\u001b[1;33m)\u001b[0m\u001b[1;33m\u001b[0m\u001b[1;33m\u001b[0m\u001b[0m\n",
      "\u001b[1;31mProgrammingError\u001b[0m: Incorrect number of bindings supplied. The current statement uses 1, and there are 6 supplied."
     ]
    }
   ],
   "source": [
    "conn.execute('CREATE TABLE test (name TEXT)')\n",
    "with sqlite3.connect('db/Oldports.sqlite') as con:\n",
    "            cur = con.cursor()\n",
    "            cur.execute(\"INSERT INTO test (name) VALUES (?)\",('Sandra') )\n",
    "            \n",
    "            con.commit()"
   ]
  },
  {
   "cell_type": "code",
   "execution_count": null,
   "metadata": {},
   "outputs": [],
   "source": [
    "import sqlite3\n",
    "\n",
    "conn = sqlite3.connect('db/Oldports.sqlite')\n",
    "print \"Opened database successfully\";\n",
    "\n",
    "conn.execute('CREATE TABLE students (name TEXT, addr TEXT, city TEXT, pin TEXT)')\n",
    "print \"Table created successfully\";\n",
    "conn.close()\n",
    "Our Flask application has three View functions.\n",
    "\n",
    "First new_student() function is bound to the URL rule (‘/addnew’). It renders an HTML file containing student information form.\n",
    "\n",
    "@app.route('/enternew')\n",
    "def new_student():\n",
    "   return render_template('student.html')\n",
    "The HTML script for ‘student.html’ is as follows −\n",
    "\n",
    "<html>\n",
    "   <body>\n",
    "      <form action = \"{{ url_for('addrec') }}\" method = \"POST\">\n",
    "         <h3>Student Information</h3>\n",
    "         Name<br>\n",
    "         <input type = \"text\" name = \"nm\" /></br>\n",
    "         \n",
    "         Address<br>\n",
    "         <textarea name = \"add\" ></textarea><br>\n",
    "         \n",
    "         City<br>\n",
    "         <input type = \"text\" name = \"city\" /><br>\n",
    "         \n",
    "         PINCODE<br>\n",
    "         <input type = \"text\" name = \"pin\" /><br>\n",
    "         <input type = \"submit\" value = \"submit\" /><br>\n",
    "      </form>\n",
    "   </body>\n",
    "</html>\n",
    "As it can be seen, form data is posted to the ‘/addrec’ URL which binds the addrec() function.\n",
    "\n",
    "This addrec() function retrieves the form’s data by POST method and inserts in students table. Message corresponding to success or error in insert operation is rendered to ‘result.html’.\n",
    "\n",
    "@app.route('/addrec',methods = ['POST', 'GET'])\n",
    "def addrec():\n",
    "   if request.method == 'POST':\n",
    "      try:\n",
    "         nm = request.form['nm']\n",
    "         addr = request.form['add']\n",
    "         city = request.form['city']\n",
    "         pin = request.form['pin']\n",
    "         \n",
    "         with sql.connect(\"database.db\") as con:\n",
    "            cur = con.cursor()\n",
    "            cur.execute(\"INSERT INTO students (name,addr,city,pin) \n",
    "               VALUES (?,?,?,?)\",(nm,addr,city,pin) )\n",
    "            \n",
    "            con.commit()\n",
    "            msg = \"Record successfully added\"\n",
    "      except:\n",
    "         con.rollback()\n",
    "         msg = \"error in insert operation\"\n",
    "      \n",
    "      finally:\n",
    "         return render_template(\"result.html\",msg = msg)\n",
    "         con.close()"
   ]
  }
 ],
 "metadata": {
  "kernelspec": {
   "display_name": "Python 3",
   "language": "python",
   "name": "python3"
  },
  "language_info": {
   "codemirror_mode": {
    "name": "ipython",
    "version": 3
   },
   "file_extension": ".py",
   "mimetype": "text/x-python",
   "name": "python",
   "nbconvert_exporter": "python",
   "pygments_lexer": "ipython3",
   "version": "3.6.7"
  },
  "varInspector": {
   "cols": {
    "lenName": 16,
    "lenType": 16,
    "lenVar": 40
   },
   "kernels_config": {
    "python": {
     "delete_cmd_postfix": "",
     "delete_cmd_prefix": "del ",
     "library": "var_list.py",
     "varRefreshCmd": "print(var_dic_list())"
    },
    "r": {
     "delete_cmd_postfix": ") ",
     "delete_cmd_prefix": "rm(",
     "library": "var_list.r",
     "varRefreshCmd": "cat(var_dic_list()) "
    }
   },
   "types_to_exclude": [
    "module",
    "function",
    "builtin_function_or_method",
    "instance",
    "_Feature"
   ],
   "window_display": false
  }
 },
 "nbformat": 4,
 "nbformat_minor": 2
}
