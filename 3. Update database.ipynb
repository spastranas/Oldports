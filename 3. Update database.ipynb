{
 "cells": [
  {
   "cell_type": "code",
   "execution_count": 1,
   "metadata": {},
   "outputs": [],
   "source": [
    "# Dependencies\n",
    "# ----------------------------------\n",
    "# Imports the method used for connecting to DBs\n",
    "from sqlalchemy import create_engine\n",
    "\n",
    "# Imports the methods needed to abstract classes into tables\n",
    "from sqlalchemy.ext.declarative import declarative_base\n",
    "\n",
    "# Allow us to declare column types\n",
    "from sqlalchemy import Column, Integer, String, Float "
   ]
  },
  {
   "cell_type": "code",
   "execution_count": 3,
   "metadata": {},
   "outputs": [],
   "source": [
    "# Create Class\n",
    "# ----------------------------------\n",
    "Base = declarative_base()\n",
    "class UploadClass(Base):\n",
    "    __tablename__ = 'GeoTagData'\n",
    "    __table_args__ = { 'extend_existing': True }\n",
    "\n",
    "    index=Column (Integer,primary_key=True)\n",
    "    latitude= Column (Float)\n",
    "    longitude= Column (Float)\n",
    "    landmark=Column(String(255))\n",
    "    country=Column(String(255))\n",
    "    state=Column(String(255))\n",
    "    county=Column(String(255))\n",
    "    city=Column(String(255))\n",
    "    zipcode=Column(Integer)\n",
    "    ImageTimeStamp=Column(String(255))\n",
    "    FileAddress=Column(String(255))\n",
    "    \n"
   ]
  },
  {
   "cell_type": "code",
   "execution_count": 5,
   "metadata": {},
   "outputs": [
    {
     "name": "stdout",
     "output_type": "stream",
     "text": [
      "static/Images/uploads/test.jpg\n",
      "{'latitude': 44.98036, 'longitude': -93.26508, 'landmark': 'Downtown West, Minneapolis, MN, United States', 'country': 'USA', 'state': 'MN', 'county': 'Hennepin', 'city': 'Minneapolis', 'zipcode': '55401', 'ImageTimeStamp': '2019-07-16', 'FileAddress': '../static/Images/uploads/test.jpg'}\n"
     ]
    }
   ],
   "source": [
    "# add the new picture data into a dataframe\n",
    "import ProcessPicture\n",
    "picAddress=\"static/Images/uploads/test.jpg\"\n",
    "print (picAddress)\n",
    "# execute function into a variable\n",
    "df=ProcessPicture.ExtractPicData(picAddress)\n",
    "print(df)"
   ]
  },
  {
   "cell_type": "code",
   "execution_count": 6,
   "metadata": {},
   "outputs": [],
   "source": [
    "# Create variables to hold new picture data info\n",
    "FileAddress=df['FileAddress']\n",
    "ImageTimeStamp=df['ImageTimeStamp']\n",
    "city=df['city']\n",
    "country=df['country']\n",
    "county=df['county']\n",
    "landmark=df['landmark']\n",
    "latitude=df['latitude']\n",
    "longitude=df['longitude']\n",
    "state=df['state']\n",
    "zipcode=df['zipcode']\n"
   ]
  },
  {
   "cell_type": "code",
   "execution_count": 7,
   "metadata": {},
   "outputs": [],
   "source": [
    "# Create Database Connection\n",
    "# ----------------------------------\n",
    "database_path = \"db/Oldports.sqlite\"\n",
    "engine = create_engine(f\"sqlite:///{database_path}\")\n",
    "conn = engine.connect()"
   ]
  },
  {
   "cell_type": "code",
   "execution_count": 8,
   "metadata": {},
   "outputs": [
    {
     "name": "stdout",
     "output_type": "stream",
     "text": [
      "['GeoTagData', 'dog']\n"
     ]
    }
   ],
   "source": [
    "print (engine.table_names()) \n",
    "\n",
    "#data = engine.execute(\"select * from pets_db\").keys() \n"
   ]
  },
  {
   "cell_type": "code",
   "execution_count": 9,
   "metadata": {},
   "outputs": [
    {
     "data": {
      "text/plain": [
       "['index',\n",
       " 'FileAddress',\n",
       " 'ImageTimeStamp',\n",
       " 'city',\n",
       " 'country',\n",
       " 'county',\n",
       " 'landmark',\n",
       " 'latitude',\n",
       " 'longitude',\n",
       " 'state',\n",
       " 'zipcode']"
      ]
     },
     "execution_count": 9,
     "metadata": {},
     "output_type": "execute_result"
    }
   ],
   "source": [
    "data = engine.execute(\"select * from GeoTagData\").keys() \n",
    "data"
   ]
  },
  {
   "cell_type": "code",
   "execution_count": 10,
   "metadata": {},
   "outputs": [],
   "source": [
    "data = engine.execute(\"SELECT *  FROM GeoTagData\")\n",
    "index=[]\n",
    "for record in data:\n",
    "    index.append(record)\n",
    "\n",
    "index=len(index)\n"
   ]
  },
  {
   "cell_type": "code",
   "execution_count": 11,
   "metadata": {},
   "outputs": [],
   "source": [
    "# update the pic class with the dataframe varables\n",
    "pictureData=UploadClass(index=index,FileAddress=FileAddress,ImageTimeStamp=ImageTimeStamp, city=city, country=country,county=county, landmark=landmark, latitude=latitude, longitude=longitude,state=state,zipcode=zipcode) "
   ]
  },
  {
   "cell_type": "code",
   "execution_count": 12,
   "metadata": {},
   "outputs": [],
   "source": [
    "# Create a \"Metadata\" Layer That Abstracts our SQL Database\n",
    "# ----------------------------------\n",
    "Base.metadata.create_all(engine)\n",
    "\n"
   ]
  },
  {
   "cell_type": "code",
   "execution_count": 17,
   "metadata": {},
   "outputs": [],
   "source": [
    "# Use this to clear out the db\n",
    "# ----------------------------------\n",
    "#Base.metadata.drop_all(engine)"
   ]
  },
  {
   "cell_type": "code",
   "execution_count": 13,
   "metadata": {},
   "outputs": [],
   "source": [
    "# Create a Session Object to Connect to DB\n",
    "# ----------------------------------\n",
    "from sqlalchemy.orm import Session\n",
    "session = Session(bind=engine)"
   ]
  },
  {
   "cell_type": "code",
   "execution_count": 14,
   "metadata": {},
   "outputs": [],
   "source": [
    "# Add Records to the Appropriate DB\n",
    "# ----------------------------------\n",
    "session.add(pictureData)\n",
    "\n",
    "session.commit()"
   ]
  },
  {
   "cell_type": "code",
   "execution_count": 15,
   "metadata": {},
   "outputs": [
    {
     "name": "stdout",
     "output_type": "stream",
     "text": [
      "<__main__.UploadClass object at 0x0000022D752AA048>\n",
      "<__main__.UploadClass object at 0x0000022D752AA0B8>\n",
      "<__main__.UploadClass object at 0x0000022D752AA128>\n",
      "<__main__.UploadClass object at 0x0000022D752AA198>\n",
      "<__main__.UploadClass object at 0x0000022D752AA208>\n",
      "<__main__.UploadClass object at 0x0000022D752AA278>\n",
      "<__main__.UploadClass object at 0x0000022D752AA2E8>\n",
      "<__main__.UploadClass object at 0x0000022D752AA358>\n",
      "<__main__.UploadClass object at 0x0000022D752AA3C8>\n",
      "<__main__.UploadClass object at 0x0000022D752AA438>\n",
      "<__main__.UploadClass object at 0x0000022D752AA4A8>\n",
      "<__main__.UploadClass object at 0x0000022D752AA518>\n",
      "<__main__.UploadClass object at 0x0000022D752AA588>\n",
      "<__main__.UploadClass object at 0x0000022D752AA5F8>\n",
      "<__main__.UploadClass object at 0x0000022D752AA668>\n",
      "<__main__.UploadClass object at 0x0000022D752AA6D8>\n",
      "<__main__.UploadClass object at 0x0000022D752AA748>\n",
      "<__main__.UploadClass object at 0x0000022D752AA7B8>\n",
      "<__main__.UploadClass object at 0x0000022D752AA828>\n",
      "<__main__.UploadClass object at 0x0000022D752AA898>\n",
      "<__main__.UploadClass object at 0x0000022D752AA908>\n",
      "<__main__.UploadClass object at 0x0000022D752AA978>\n",
      "<__main__.UploadClass object at 0x0000022D752AA9E8>\n",
      "<__main__.UploadClass object at 0x0000022D752AAA58>\n",
      "<__main__.UploadClass object at 0x0000022D7524ADA0>\n"
     ]
    }
   ],
   "source": [
    "# Query the Tables\n",
    "# ----------------------------------\n",
    "pic_list = session.query(UploadClass)\n",
    "for picture in pic_list:\n",
    "    print(picture)"
   ]
  },
  {
   "cell_type": "code",
   "execution_count": 16,
   "metadata": {
    "scrolled": true
   },
   "outputs": [
    {
     "name": "stdout",
     "output_type": "stream",
     "text": [
      "(0, '../static/images/IMG_3416.jpg', '2019-07-16', 'St Paul', 'USA', 'Ramsey', 'Summit-University, St Paul, MN, United States', 44.95129, -93.12664000000001, 'MN', 55104)\n",
      "(1, '../static/images/IMG_3421.jpg', '2019-07-16', 'St Paul', 'USA', 'Ramsey', 'Summit-University, St Paul, MN, United States', 44.95129, -93.12664000000001, 'MN', 55104)\n",
      "(2, '../static/images/IMG_3430.jpg', '2019-07-16', 'St Paul', 'USA', 'Ramsey', 'Summit-University, St Paul, MN, United States', 44.95129, -93.12664000000001, 'MN', 55104)\n",
      "(3, '../static/images/IMG_3573.jpg', '2019-07-16', 'Minneapolis', 'USA', 'Hennepin', 'Downtown West, Minneapolis, MN, United States', 44.98036, -93.26508000000001, 'MN', 55401)\n",
      "(4, '../static/images/IMG_3574.jpg', '2019-07-16', 'St Paul', 'USA', 'Ramsey', 'Summit-University, St Paul, MN, United States', 44.95129, -93.12664000000001, 'MN', 55104)\n",
      "(5, '../static/images/IMG_3660.jpg', '2019-07-16', 'Minneapolis', 'USA', 'Hennepin', 'Downtown West, Minneapolis, MN, United States', 44.98036, -93.26508000000001, 'MN', 55401)\n",
      "(6, '../static/images/IMG_3680.jpg', '2019-07-16', 'Minneapolis', 'USA', 'Hennepin', 'Downtown West, Minneapolis, MN, United States', 44.98036, -93.26508000000001, 'MN', 55401)\n",
      "(7, '../static/images/IMG_3695.jpg', '2019-07-16', 'St Paul', 'USA', 'Ramsey', 'Downtown, St Paul, MN, United States', 44.94961, -93.0934, 'MN', 55101)\n",
      "(8, '../static/images/IMG_3698.jpg', '2019-07-16', 'St Paul', 'USA', 'Ramsey', 'Downtown, St Paul, MN, United States', 44.94961, -93.0934, 'MN', 55101)\n",
      "(9, '../static/images/IMG_3712.jpg', '2019-07-16', 'St Paul', 'USA', 'Ramsey', 'Summit-University, St Paul, MN, United States', 44.95129, -93.12664000000001, 'MN', 55104)\n",
      "(10, '../static/images/IMG_3731.jpg', '2019-07-16', 'St Paul', 'USA', 'Ramsey', 'Summit-University, St Paul, MN, United States', 44.95129, -93.12664000000001, 'MN', 55104)\n",
      "(11, '../static/images/IMG_3820.jpg', '2019-07-16', 'St Paul', 'USA', 'Ramsey', 'West 7th, St Paul, MN, United States', 44.93077, -93.12225, 'MN', 55102)\n",
      "(12, '../static/images/IMG_3822.jpg', '2019-07-16', 'St Paul', 'USA', 'Ramsey', 'West 7th, St Paul, MN, United States', 44.93077, -93.12225, 'MN', 55102)\n",
      "(13, '../static/images/IMG_3823.jpg', '2019-07-16', 'St Paul', 'USA', 'Ramsey', 'West 7th, St Paul, MN, United States', 44.93077, -93.12225, 'MN', 55102)\n",
      "(14, '../static/images/IMG_3905.jpg', '2019-07-16', 'St Paul', 'USA', 'Ramsey', 'West 7th, St Paul, MN, United States', 44.93077, -93.12225, 'MN', 55102)\n",
      "(15, '../static/images/IMG_3947.jpg', '2019-07-16', 'St Paul', 'USA', 'Ramsey', 'Concord-Robert, St Paul, MN, United States', 44.93586, -93.07428, 'MN', 55107)\n",
      "(16, '../static/images/IMG_3996.jpg', '2019-07-16', 'Minneapolis', 'USA', 'Hennepin', 'Whittier, Minneapolis, MN, United States', 44.95731, -93.28044, 'MN', 55404)\n",
      "(17, '../static/images/IMG_4128.jpg', '2019-07-16', 'Roseville', 'USA', 'Ramsey', 'Roseville, MN, United States', 45.02173, -93.14928, 'MN', 55113)\n",
      "(18, '../static/images/IMG_4174.jpg', '2019-07-16', 'St Paul', 'USA', 'Ramsey', 'Summit-University, St Paul, MN, United States', 44.95129, -93.12664000000001, 'MN', 55104)\n",
      "(19, '../static/images/IMG_4188.jpg', '2019-07-16', 'St Paul', 'USA', 'Ramsey', 'Selby Ave, St Paul, MN 55104, United States', 44.94658, -93.12646, 'MN', 55104)\n",
      "(20, '../static/images/IMG_4235.jpg', '2019-07-16', 'Richfield', 'USA', 'Hennepin', 'Richfield, MN, United States', 44.88109, -93.26791999999999, 'MN', 55423)\n",
      "(21, '../static/images/IMG_4358.jpg', '2019-07-16', 'St Paul', 'USA', 'Ramsey', 'Summit-University, St Paul, MN, United States', 44.95129, -93.12664000000001, 'MN', 55104)\n",
      "(22, '../static/Images/uploads/test.jpg', '2019-07-16', 'Minneapolis', 'USA', 'Hennepin', 'Downtown West, Minneapolis, MN, United States', 44.98036, -93.26508, 'MN', 55401)\n",
      "(23, '../static/Images/uploads/test.jpg', '2019-07-16', 'Minneapolis', 'USA', 'Hennepin', 'Downtown West, Minneapolis, MN, United States', 44.98036, -93.26508, 'MN', 55401)\n",
      "(24, '../static/Images/uploads/test.jpg', '2019-07-16', 'Minneapolis', 'USA', 'Hennepin', 'Downtown West, Minneapolis, MN, United States', 44.98036, -93.26508, 'MN', 55401)\n"
     ]
    }
   ],
   "source": [
    "data = engine.execute(\"SELECT * FROM GeoTagData\")\n",
    "for record in data:\n",
    "    print(record)"
   ]
  },
  {
   "cell_type": "markdown",
   "metadata": {},
   "source": [
    "# Make a function with the following code to make it dynamic"
   ]
  },
  {
   "cell_type": "code",
   "execution_count": 20,
   "metadata": {},
   "outputs": [],
   "source": [
    "# Dependencies\n",
    "# ----------------------------------\n",
    "# Imports the method used for connecting to DBs\n",
    "from sqlalchemy import create_engine\n",
    "# Imports the methods needed to abstract classes into tables\n",
    "from sqlalchemy.ext.declarative import declarative_base\n",
    "# Allow us to declare column types\n",
    "from sqlalchemy import Column, Integer, String, Float \n",
    "\n",
    "\n",
    "# Create Class\n",
    "# ----------------------------------\n",
    "Base = declarative_base()\n",
    "class UploadClass(Base):\n",
    "    __tablename__ = 'GeoTagData'\n",
    "    __table_args__ = { 'extend_existing': True }\n",
    "\n",
    "    index=Column (Integer,primary_key=True)\n",
    "    latitude= Column (Float)\n",
    "    longitude= Column (Float)\n",
    "    landmark=Column(String(255))\n",
    "    country=Column(String(255))\n",
    "    state=Column(String(255))\n",
    "    county=Column(String(255))\n",
    "    city=Column(String(255))\n",
    "    zipcode=Column(Integer)\n",
    "    ImageTimeStamp=Column(String(255))\n",
    "    FileAddress=Column(String(255))\n",
    "    \n",
    "\n",
    "# add the new picture data into a dataframe\n",
    "import ProcessPicture\n",
    "picAddress=\"static/Images/uploads/test.jpg\"\n",
    "# execute function into a variable\n",
    "df=ProcessPicture.ExtractPicData(picAddress)\n",
    "\n",
    "\n",
    "# Create variables to hold new picture data info\n",
    "FileAddress=df['FileAddress']\n",
    "ImageTimeStamp=df['ImageTimeStamp']\n",
    "city=df['city']\n",
    "country=df['country']\n",
    "county=df['county']\n",
    "landmark=df['landmark']\n",
    "latitude=df['latitude']\n",
    "longitude=df['longitude']\n",
    "state=df['state']\n",
    "zipcode=df['zipcode']\n",
    "\n",
    "# look for the last index, so we can add the index column\n",
    "# Create Database Connection\n",
    "# ----------------------------------\n",
    "database_path = \"db/Oldports.sqlite\"\n",
    "engine = create_engine(f\"sqlite:///{database_path}\")\n",
    "conn = engine.connect()\n",
    "data = engine.execute(\"SELECT *  FROM GeoTagData\")\n",
    "index=[]\n",
    "for record in data:\n",
    "    index.append(record)\n",
    "# index int a variable\n",
    "index=len(index)\n",
    "\n",
    "# update the class with the dataframe varables\n",
    "pictureData=UploadClass(index=index,FileAddress=FileAddress,ImageTimeStamp=ImageTimeStamp, city=city, country=country,county=county, landmark=landmark, latitude=latitude, longitude=longitude,state=state,zipcode=zipcode) \n",
    "\n",
    "# Create a \"Metadata\" Layer That Abstracts our SQL Database\n",
    "Base.metadata.create_all(engine)\n",
    "# Create a Session Object to Connect to DB\n",
    "# ----------------------------------\n",
    "from sqlalchemy.orm import Session\n",
    "session = Session(bind=engine)\n",
    "# Add Records to the Appropriate DB\n",
    "# ----------------------------------\n",
    "session.add(pictureData)\n",
    "\n",
    "session.commit()\n"
   ]
  }
 ],
 "metadata": {
  "kernelspec": {
   "display_name": "Python 3",
   "language": "python",
   "name": "python3"
  },
  "language_info": {
   "codemirror_mode": {
    "name": "ipython",
    "version": 3
   },
   "file_extension": ".py",
   "mimetype": "text/x-python",
   "name": "python",
   "nbconvert_exporter": "python",
   "pygments_lexer": "ipython3",
   "version": "3.6.7"
  },
  "varInspector": {
   "cols": {
    "lenName": 16,
    "lenType": 16,
    "lenVar": 40
   },
   "kernels_config": {
    "python": {
     "delete_cmd_postfix": "",
     "delete_cmd_prefix": "del ",
     "library": "var_list.py",
     "varRefreshCmd": "print(var_dic_list())"
    },
    "r": {
     "delete_cmd_postfix": ") ",
     "delete_cmd_prefix": "rm(",
     "library": "var_list.r",
     "varRefreshCmd": "cat(var_dic_list()) "
    }
   },
   "types_to_exclude": [
    "module",
    "function",
    "builtin_function_or_method",
    "instance",
    "_Feature"
   ],
   "window_display": false
  }
 },
 "nbformat": 4,
 "nbformat_minor": 2
}
