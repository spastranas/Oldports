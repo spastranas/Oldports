{
 "cells": [
  {
   "cell_type": "code",
   "execution_count": 1,
   "metadata": {},
   "outputs": [],
   "source": [
    "import pandas as pd\n",
    "import sqlite3\n",
    "from sqlite3 import Error\n",
    "conn = sqlite3.connect('db/Oldports.sqlite')\n",
    "c = conn.cursor()"
   ]
  },
  {
   "cell_type": "code",
   "execution_count": 2,
   "metadata": {},
   "outputs": [],
   "source": [
    "\n",
    "# Load geodata\n",
    "geod = \"db/OldportsGeoTagData.csv\"\n",
    "geod = pd.read_csv(geod)\n",
    "geod.to_sql('GeoTagData', conn, if_exists = \"replace\")\n"
   ]
  },
  {
   "cell_type": "markdown",
   "metadata": {},
   "source": [
    "# Query the database"
   ]
  },
  {
   "cell_type": "code",
   "execution_count": 3,
   "metadata": {
    "scrolled": true
   },
   "outputs": [
    {
     "data": {
      "text/plain": [
       "Index(['index', 'FileAddress', 'ImageTimeStamp', 'city', 'country', 'county',\n",
       "       'landmark', 'latitude', 'longitude', 'state', 'zipcode'],\n",
       "      dtype='object')"
      ]
     },
     "execution_count": 3,
     "metadata": {},
     "output_type": "execute_result"
    }
   ],
   "source": [
    "#test\n",
    "df = pd.read_sql('Select * from GeoTagData', conn)\n",
    "df.columns\n"
   ]
  },
  {
   "cell_type": "code",
   "execution_count": 4,
   "metadata": {},
   "outputs": [],
   "source": [
    "from sqlalchemy import create_engine\n",
    "from sqlalchemy.ext.declarative import declarative_base\n",
    "Base = declarative_base()"
   ]
  },
  {
   "cell_type": "code",
   "execution_count": 5,
   "metadata": {},
   "outputs": [],
   "source": [
    "database_path = \"db/Oldports.sqlite\"\n",
    "engine = create_engine(f\"sqlite:///{database_path}\")\n",
    "conn = engine.connect()"
   ]
  },
  {
   "cell_type": "code",
   "execution_count": 6,
   "metadata": {
    "scrolled": true
   },
   "outputs": [
    {
     "data": {
      "text/plain": [
       "['index',\n",
       " 'FileAddress',\n",
       " 'ImageTimeStamp',\n",
       " 'city',\n",
       " 'country',\n",
       " 'county',\n",
       " 'landmark',\n",
       " 'latitude',\n",
       " 'longitude',\n",
       " 'state',\n",
       " 'zipcode']"
      ]
     },
     "execution_count": 6,
     "metadata": {},
     "output_type": "execute_result"
    }
   ],
   "source": [
    "data = engine.execute(\"select * from GeoTagData\").keys() \n",
    "data"
   ]
  },
  {
   "cell_type": "code",
   "execution_count": 42,
   "metadata": {},
   "outputs": [
    {
     "name": "stdout",
     "output_type": "stream",
     "text": [
      "(0, '../static/images/IMG_3416.jpg', '2019-07-16', 'St Paul', 'USA', 'Ramsey', 'Summit-University, St Paul, MN, United States', 44.95129, -93.12664000000001, 'MN', 55104)\n",
      "(1, '../static/images/IMG_3421.jpg', '2019-07-16', 'St Paul', 'USA', 'Ramsey', 'Summit-University, St Paul, MN, United States', 44.95129, -93.12664000000001, 'MN', 55104)\n",
      "(2, '../static/images/IMG_3430.jpg', '2019-07-16', 'St Paul', 'USA', 'Ramsey', 'Summit-University, St Paul, MN, United States', 44.95129, -93.12664000000001, 'MN', 55104)\n",
      "(3, '../static/images/IMG_3573.jpg', '2019-07-16', 'Minneapolis', 'USA', 'Hennepin', 'Downtown West, Minneapolis, MN, United States', 44.98036, -93.26508000000001, 'MN', 55401)\n",
      "(4, '../static/images/IMG_3574.jpg', '2019-07-16', 'St Paul', 'USA', 'Ramsey', 'Summit-University, St Paul, MN, United States', 44.95129, -93.12664000000001, 'MN', 55104)\n",
      "(5, '../static/images/IMG_3660.jpg', '2019-07-16', 'Minneapolis', 'USA', 'Hennepin', 'Downtown West, Minneapolis, MN, United States', 44.98036, -93.26508000000001, 'MN', 55401)\n",
      "(6, '../static/images/IMG_3680.jpg', '2019-07-16', 'Minneapolis', 'USA', 'Hennepin', 'Downtown West, Minneapolis, MN, United States', 44.98036, -93.26508000000001, 'MN', 55401)\n",
      "(7, '../static/images/IMG_3695.jpg', '2019-07-16', 'St Paul', 'USA', 'Ramsey', 'Downtown, St Paul, MN, United States', 44.94961, -93.0934, 'MN', 55101)\n",
      "(8, '../static/images/IMG_3698.jpg', '2019-07-16', 'St Paul', 'USA', 'Ramsey', 'Downtown, St Paul, MN, United States', 44.94961, -93.0934, 'MN', 55101)\n",
      "(9, '../static/images/IMG_3712.jpg', '2019-07-16', 'St Paul', 'USA', 'Ramsey', 'Summit-University, St Paul, MN, United States', 44.95129, -93.12664000000001, 'MN', 55104)\n",
      "(10, '../static/images/IMG_3731.jpg', '2019-07-16', 'St Paul', 'USA', 'Ramsey', 'Summit-University, St Paul, MN, United States', 44.95129, -93.12664000000001, 'MN', 55104)\n",
      "(11, '../static/images/IMG_3820.jpg', '2019-07-16', 'St Paul', 'USA', 'Ramsey', 'West 7th, St Paul, MN, United States', 44.93077, -93.12225, 'MN', 55102)\n",
      "(12, '../static/images/IMG_3822.jpg', '2019-07-16', 'St Paul', 'USA', 'Ramsey', 'West 7th, St Paul, MN, United States', 44.93077, -93.12225, 'MN', 55102)\n",
      "(13, '../static/images/IMG_3823.jpg', '2019-07-16', 'St Paul', 'USA', 'Ramsey', 'West 7th, St Paul, MN, United States', 44.93077, -93.12225, 'MN', 55102)\n",
      "(14, '../static/images/IMG_3905.jpg', '2019-07-16', 'St Paul', 'USA', 'Ramsey', 'West 7th, St Paul, MN, United States', 44.93077, -93.12225, 'MN', 55102)\n",
      "(15, '../static/images/IMG_3947.jpg', '2019-07-16', 'St Paul', 'USA', 'Ramsey', 'Concord-Robert, St Paul, MN, United States', 44.93586, -93.07428, 'MN', 55107)\n",
      "(16, '../static/images/IMG_3996.jpg', '2019-07-16', 'Minneapolis', 'USA', 'Hennepin', 'Whittier, Minneapolis, MN, United States', 44.95731, -93.28044, 'MN', 55404)\n",
      "(17, '../static/images/IMG_4128.jpg', '2019-07-16', 'Roseville', 'USA', 'Ramsey', 'Roseville, MN, United States', 45.02173, -93.14928, 'MN', 55113)\n",
      "(18, '../static/images/IMG_4174.jpg', '2019-07-16', 'St Paul', 'USA', 'Ramsey', 'Summit-University, St Paul, MN, United States', 44.95129, -93.12664000000001, 'MN', 55104)\n",
      "(19, '../static/images/IMG_4188.jpg', '2019-07-16', 'St Paul', 'USA', 'Ramsey', 'Selby Ave, St Paul, MN 55104, United States', 44.94658, -93.12646, 'MN', 55104)\n",
      "(20, '../static/images/IMG_4235.jpg', '2019-07-16', 'Richfield', 'USA', 'Hennepin', 'Richfield, MN, United States', 44.88109, -93.26791999999999, 'MN', 55423)\n",
      "(21, '../static/images/IMG_4358.jpg', '2019-07-16', 'St Paul', 'USA', 'Ramsey', 'Summit-University, St Paul, MN, United States', 44.95129, -93.12664000000001, 'MN', 55104)\n"
     ]
    }
   ],
   "source": [
    "data = engine.execute(\"SELECT * FROM GeoTagData\")\n",
    "for record in data:\n",
    "    print(record)\n"
   ]
  }
 ],
 "metadata": {
  "kernelspec": {
   "display_name": "Python 3",
   "language": "python",
   "name": "python3"
  },
  "language_info": {
   "codemirror_mode": {
    "name": "ipython",
    "version": 3
   },
   "file_extension": ".py",
   "mimetype": "text/x-python",
   "name": "python",
   "nbconvert_exporter": "python",
   "pygments_lexer": "ipython3",
   "version": "3.7.1"
  }
 },
 "nbformat": 4,
 "nbformat_minor": 2
}
